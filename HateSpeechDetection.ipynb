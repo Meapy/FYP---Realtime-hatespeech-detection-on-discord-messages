{
 "cells": [
  {
   "cell_type": "code",
   "execution_count": 1,
   "metadata": {
    "collapsed": true
   },
   "outputs": [],
   "source": [
    "import pandas as pd\n",
    "import numpy as np\n",
    "import pickle\n",
    "import sys\n",
    "from sklearn.feature_extraction.text import TfidfVectorizer\n",
    "import nltk\n",
    "from nltk.stem.porter import *\n",
    "import string\n",
    "import re\n",
    "from vaderSentiment.vaderSentiment import SentimentIntensityAnalyzer as VS\n",
    "from textstat.textstat import *\n",
    "from sklearn.linear_model import LogisticRegression\n",
    "from sklearn.feature_selection import SelectFromModel\n",
    "from sklearn.metrics import classification_report\n",
    "from sklearn.svm import LinearSVC\n",
    "import matplotlib.pyplot as plt\n",
    "import seaborn"
   ]
  },
  {
   "cell_type": "code",
   "execution_count": 4,
   "outputs": [
    {
     "data": {
      "text/plain": "         Unnamed: 0         count   hate_speech  offensive_language  \\\ncount  24783.000000  24783.000000  24783.000000        24783.000000   \nmean   12681.192027      3.243473      0.280515            2.413711   \nstd     7299.553863      0.883060      0.631851            1.399459   \nmin        0.000000      3.000000      0.000000            0.000000   \n25%     6372.500000      3.000000      0.000000            2.000000   \n50%    12703.000000      3.000000      0.000000            3.000000   \n75%    18995.500000      3.000000      0.000000            3.000000   \nmax    25296.000000      9.000000      7.000000            9.000000   \n\n            neither         class  \ncount  24783.000000  24783.000000  \nmean       0.549247      1.110277  \nstd        1.113299      0.462089  \nmin        0.000000      0.000000  \n25%        0.000000      1.000000  \n50%        0.000000      1.000000  \n75%        0.000000      1.000000  \nmax        9.000000      2.000000  ",
      "text/html": "<div>\n<style scoped>\n    .dataframe tbody tr th:only-of-type {\n        vertical-align: middle;\n    }\n\n    .dataframe tbody tr th {\n        vertical-align: top;\n    }\n\n    .dataframe thead th {\n        text-align: right;\n    }\n</style>\n<table border=\"1\" class=\"dataframe\">\n  <thead>\n    <tr style=\"text-align: right;\">\n      <th></th>\n      <th>Unnamed: 0</th>\n      <th>count</th>\n      <th>hate_speech</th>\n      <th>offensive_language</th>\n      <th>neither</th>\n      <th>class</th>\n    </tr>\n  </thead>\n  <tbody>\n    <tr>\n      <th>count</th>\n      <td>24783.000000</td>\n      <td>24783.000000</td>\n      <td>24783.000000</td>\n      <td>24783.000000</td>\n      <td>24783.000000</td>\n      <td>24783.000000</td>\n    </tr>\n    <tr>\n      <th>mean</th>\n      <td>12681.192027</td>\n      <td>3.243473</td>\n      <td>0.280515</td>\n      <td>2.413711</td>\n      <td>0.549247</td>\n      <td>1.110277</td>\n    </tr>\n    <tr>\n      <th>std</th>\n      <td>7299.553863</td>\n      <td>0.883060</td>\n      <td>0.631851</td>\n      <td>1.399459</td>\n      <td>1.113299</td>\n      <td>0.462089</td>\n    </tr>\n    <tr>\n      <th>min</th>\n      <td>0.000000</td>\n      <td>3.000000</td>\n      <td>0.000000</td>\n      <td>0.000000</td>\n      <td>0.000000</td>\n      <td>0.000000</td>\n    </tr>\n    <tr>\n      <th>25%</th>\n      <td>6372.500000</td>\n      <td>3.000000</td>\n      <td>0.000000</td>\n      <td>2.000000</td>\n      <td>0.000000</td>\n      <td>1.000000</td>\n    </tr>\n    <tr>\n      <th>50%</th>\n      <td>12703.000000</td>\n      <td>3.000000</td>\n      <td>0.000000</td>\n      <td>3.000000</td>\n      <td>0.000000</td>\n      <td>1.000000</td>\n    </tr>\n    <tr>\n      <th>75%</th>\n      <td>18995.500000</td>\n      <td>3.000000</td>\n      <td>0.000000</td>\n      <td>3.000000</td>\n      <td>0.000000</td>\n      <td>1.000000</td>\n    </tr>\n    <tr>\n      <th>max</th>\n      <td>25296.000000</td>\n      <td>9.000000</td>\n      <td>7.000000</td>\n      <td>9.000000</td>\n      <td>9.000000</td>\n      <td>2.000000</td>\n    </tr>\n  </tbody>\n</table>\n</div>"
     },
     "execution_count": 4,
     "metadata": {},
     "output_type": "execute_result"
    }
   ],
   "source": [
    "data = pd.read_csv('data/labeled_data.csv')\n",
    "\n",
    "data.describe()"
   ],
   "metadata": {
    "collapsed": false,
    "pycharm": {
     "name": "#%%\n"
    }
   }
  }
 ],
 "metadata": {
  "kernelspec": {
   "name": "pycharm-a2cc6b80",
   "language": "python",
   "display_name": "PyCharm (DiscMod)"
  },
  "language_info": {
   "codemirror_mode": {
    "name": "ipython",
    "version": 2
   },
   "file_extension": ".py",
   "mimetype": "text/x-python",
   "name": "python",
   "nbconvert_exporter": "python",
   "pygments_lexer": "ipython2",
   "version": "2.7.6"
  }
 },
 "nbformat": 4,
 "nbformat_minor": 0
}